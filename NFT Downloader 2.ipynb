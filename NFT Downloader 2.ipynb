{
 "cells": [
  {
   "cell_type": "code",
   "execution_count": 1,
   "id": "fe5a374a",
   "metadata": {
    "ExecuteTime": {
     "end_time": "2022-06-26T03:14:04.483948Z",
     "start_time": "2022-06-26T03:14:04.478979Z"
    },
    "deletable": false,
    "editable": false
   },
   "outputs": [],
   "source": [
    "import os\n",
    "import sys\n",
    "import time\n",
    "import signal\n",
    "import requests"
   ]
  },
  {
   "cell_type": "code",
   "execution_count": 2,
   "id": "26755ea6",
   "metadata": {
    "ExecuteTime": {
     "end_time": "2022-06-26T03:14:04.782150Z",
     "start_time": "2022-06-26T03:14:04.767189Z"
    },
    "deletable": false,
    "editable": false
   },
   "outputs": [],
   "source": [
    "# Constants\n",
    "# Root OpenSea API URL\n",
    "API_URL = \"https://api.opensea.io\"\n",
    "\n",
    "# Number of assets per page\n",
    "PAGE_SIZE = 50"
   ]
  },
  {
   "cell_type": "code",
   "execution_count": 3,
   "id": "231ce8d3",
   "metadata": {
    "ExecuteTime": {
     "end_time": "2022-06-26T03:14:05.067387Z",
     "start_time": "2022-06-26T03:14:05.054449Z"
    },
    "deletable": false,
    "editable": false
   },
   "outputs": [],
   "source": [
    "# Configuration\n",
    "# If True, do not print info about individual assets\n",
    "QUIET = False\n",
    "\n",
    "# Directory to save downloaded collections to\n",
    "OUTPUT_DIR = \"collections\""
   ]
  },
  {
   "cell_type": "code",
   "execution_count": 4,
   "id": "a6045033",
   "metadata": {
    "ExecuteTime": {
     "end_time": "2022-06-26T03:14:05.353622Z",
     "start_time": "2022-06-26T03:14:05.338662Z"
    },
    "deletable": false,
    "editable": false
   },
   "outputs": [],
   "source": [
    "def download_collection(collection):\n",
    "    assets = None\n",
    "    page = 0\n",
    "\n",
    "    #\\TODO create collection directory\n",
    "    while True:\n",
    "        if page * PAGE_SIZE > 10000:\n",
    "            # API restriction - can only use offsets up to 10000\n",
    "            break\n",
    "\n",
    "        req_url = API_URL + \"/assets\"\n",
    "        req_params = {\n",
    "            \"collection\": collection,\n",
    "            \"offset\": page * PAGE_SIZE,\n",
    "            \"limit\": PAGE_SIZE,\n",
    "            \"order_direction\": \"asc\"\n",
    "        }\n",
    "\n",
    "        # Get assets in collection\n",
    "        resp = requests.get(req_url, params=req_params)\n",
    "        if resp.status_code != 200:\n",
    "            print(f\"Error {resp.status_code} on page {page} of collection '{collection}'\")\n",
    "            break\n",
    "\n",
    "        # Convert API response to JSON\n",
    "        try:\n",
    "            resp = resp.json()\n",
    "        except Exception as e:\n",
    "            print(e)\n",
    "            break\n",
    "\n",
    "        assets = resp[\"assets\"]\n",
    "        if assets == []:\n",
    "            if page == 0:\n",
    "                print(f\"Collection '{collection}' does not exist\")\n",
    "            break\n",
    "\n",
    "        # Verify that the output directory exists\n",
    "        if not os.path.isdir(OUTPUT_DIR + \"/\" + collection):\n",
    "            os.mkdir(OUTPUT_DIR + \"/\" + collection)\n",
    "\n",
    "        # Download all assets on this page\n",
    "        for asset in assets:\n",
    "            download_asset(collection, asset)\n",
    "\n",
    "        page += 1\n",
    "        time.sleep(5)\n",
    "        print(\"Waiting .....\")"
   ]
  },
  {
   "cell_type": "code",
   "execution_count": 5,
   "id": "9f71bd7c",
   "metadata": {
    "ExecuteTime": {
     "end_time": "2022-06-26T03:14:05.639856Z",
     "start_time": "2022-06-26T03:14:05.629883Z"
    },
    "deletable": false,
    "editable": false
   },
   "outputs": [],
   "source": [
    "def download_asset(collection, asset):\n",
    "    global usd_total\n",
    "\n",
    "    # Name of this asset\n",
    "    asset_name = asset[\"name\"]\n",
    "\n",
    "    if asset_name is None:\n",
    "        asset_name = asset[\"token_id\"]\n",
    "\n",
    "    # URL of asset content\n",
    "    asset_url = \"\"\n",
    "\n",
    "    if asset[\"animation_url\"] is not None:\n",
    "        asset_url = asset[\"animation_url\"]\n",
    "    elif asset[\"image_url\"] is not None:\n",
    "        asset_url = asset[\"image_url\"]\n",
    "\n",
    "    if asset_url == \"\":\n",
    "        return\n",
    "\n",
    "    # Download asset content\n",
    "    req = requests.get(asset_url, stream=True)\n",
    "\n",
    "    # Output file extension\n",
    "    asset_ext = \"\"\n",
    "    ctype = req.headers[\"Content-Type\"]\n",
    "    if \"image\" in ctype or \"video\" or \"audio\" in ctype:\n",
    "        asset_ext = ctype.split(\"/\")[1]\n",
    "    else:\n",
    "        print(f\"Unrecognized Content-Type: {ctype}\")\n",
    "        asset_ext = \"bin\"\n",
    "\n",
    "    # Output file path\n",
    "    output_file = f\"{OUTPUT_DIR}/{collection}/{asset_name}.{asset_ext}\"\n",
    "\n",
    "    if os.path.exists(output_file):\n",
    "        # File already exists - don't re-download it\n",
    "        return\n",
    "\n",
    "    with open(output_file, \"wb\") as f:\n",
    "        for chunk in req.iter_content(chunk_size=1024):\n",
    "            if chunk:\n",
    "                f.write(chunk)\n",
    "\n",
    "    if not QUIET:\n",
    "        print(f\"Downloading: {asset_name}\")"
   ]
  },
  {
   "cell_type": "code",
   "execution_count": 6,
   "id": "fafb8ac5",
   "metadata": {
    "ExecuteTime": {
     "end_time": "2022-06-26T03:14:05.925094Z",
     "start_time": "2022-06-26T03:14:05.910134Z"
    },
    "deletable": false,
    "editable": false
   },
   "outputs": [],
   "source": [
    "def parse_flag(flag):\n",
    "    flag = flag.split(\"=\")\n",
    "    prop = flag[0].lower()\n",
    "\n",
    "    if prop == \"quiet\":\n",
    "        global QUIET\n",
    "        QUIET = True\n",
    "    elif prop == \"output-dir\":\n",
    "        global OUTPUT_DIR\n",
    "        OUTPUT_DIR = flag[1]\n",
    "    else:\n",
    "        print(f\"Unrecognized flag '{prop}'\")\n",
    "        exit()"
   ]
  },
  {
   "cell_type": "code",
   "execution_count": 7,
   "id": "bad486a2",
   "metadata": {
    "ExecuteTime": {
     "end_time": "2022-06-26T03:14:06.211329Z",
     "start_time": "2022-06-26T03:14:06.196368Z"
    },
    "deletable": false,
    "editable": false
   },
   "outputs": [],
   "source": [
    "def finish():\n",
    "    print(f\"\\nFinish Download!\\n\")"
   ]
  },
  {
   "cell_type": "code",
   "execution_count": 8,
   "id": "39a58fe0",
   "metadata": {
    "ExecuteTime": {
     "end_time": "2022-06-26T03:14:06.496566Z",
     "start_time": "2022-06-26T03:14:06.481606Z"
    },
    "deletable": false,
    "editable": false
   },
   "outputs": [],
   "source": [
    "def sig_handler(num, frame):\n",
    "    finish()"
   ]
  },
  {
   "cell_type": "code",
   "execution_count": 9,
   "id": "77e94be5",
   "metadata": {
    "ExecuteTime": {
     "end_time": "2022-06-26T05:04:33.586966Z",
     "start_time": "2022-06-26T03:14:07.639684Z"
    },
    "scrolled": true
   },
   "outputs": [
    {
     "name": "stdout",
     "output_type": "stream",
     "text": [
      "Collection 'cryptopunksmom' does not exist\n",
      "\n",
      "Finish Download!\n",
      "\n"
     ]
    }
   ],
   "source": [
    "if __name__ == \"__main__\":\n",
    "    v = \"cryptopunksmom\"\n",
    "\n",
    "    # Create root NFT collections directory if necessary\n",
    "    if not os.path.isdir(OUTPUT_DIR):\n",
    "        os.mkdir(OUTPUT_DIR)\n",
    "\n",
    "    download_collection(v)\n",
    "\n",
    "    finish()"
   ]
  },
  {
   "cell_type": "code",
   "execution_count": null,
   "id": "d565a6af",
   "metadata": {},
   "outputs": [],
   "source": []
  }
 ],
 "metadata": {
  "kernelspec": {
   "display_name": "Python 3 (ipykernel)",
   "language": "python",
   "name": "python3"
  },
  "language_info": {
   "codemirror_mode": {
    "name": "ipython",
    "version": 3
   },
   "file_extension": ".py",
   "mimetype": "text/x-python",
   "name": "python",
   "nbconvert_exporter": "python",
   "pygments_lexer": "ipython3",
   "version": "3.8.13"
  },
  "varInspector": {
   "cols": {
    "lenName": 16,
    "lenType": 16,
    "lenVar": 40
   },
   "kernels_config": {
    "python": {
     "delete_cmd_postfix": "",
     "delete_cmd_prefix": "del ",
     "library": "var_list.py",
     "varRefreshCmd": "print(var_dic_list())"
    },
    "r": {
     "delete_cmd_postfix": ") ",
     "delete_cmd_prefix": "rm(",
     "library": "var_list.r",
     "varRefreshCmd": "cat(var_dic_list()) "
    }
   },
   "types_to_exclude": [
    "module",
    "function",
    "builtin_function_or_method",
    "instance",
    "_Feature"
   ],
   "window_display": false
  }
 },
 "nbformat": 4,
 "nbformat_minor": 5
}
